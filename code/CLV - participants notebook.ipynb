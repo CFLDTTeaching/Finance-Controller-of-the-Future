{
 "cells": [
  {
   "cell_type": "markdown",
   "metadata": {
    "slideshow": {
     "slide_type": "slide"
    }
   },
   "source": [
    "# Customer Lifetime Valuation"
   ]
  },
  {
   "cell_type": "markdown",
   "metadata": {
    "slideshow": {
     "slide_type": "skip"
    }
   },
   "source": [
    "This is a python notebook constructed by Lennert Van der Schraelen, Bjarne Brié, Prof. Dr. Kristof Stouthuysen and Prof. Dr. Tim Verdonck. All authors are members of the **Centre for Financial Leaderschip and Digital Transformation** at **Vlerick Business School**.\n",
    "\n",
    "Contact information: \n",
    "- lennert.vanderschraelen@vlerick.com\n",
    "- bjarne.brie@vlerick.com\n",
    "- kristof.stouthuysen@vlerick.com\n",
    "- tim.verdonck@uantwerpen.be "
   ]
  },
  {
   "cell_type": "markdown",
   "metadata": {
    "slideshow": {
     "slide_type": "subslide"
    }
   },
   "source": [
    "## Introduction"
   ]
  },
  {
   "cell_type": "markdown",
   "metadata": {},
   "source": [
    "<center>\n",
    "<img src='https://www.dropbox.com/s/uq49tl5f8c6z39i/graph.PNG?raw=1' width='850' class='center'>\n",
    "<center>"
   ]
  },
  {
   "cell_type": "markdown",
   "metadata": {
    "slideshow": {
     "slide_type": "subslide"
    }
   },
   "source": [
    "### Managerial Relevance"
   ]
  },
  {
   "cell_type": "markdown",
   "metadata": {},
   "source": [
    "**Identify Customer Lifetime Value (CLV) of different customers or customer segments.**\n",
    "\n",
    "Devise strategies that:\n",
    " * Add value to most profitable AND high potential customers;\n",
    " * Make lower CLV customers more valuable by enhancing and accelerating cash streams;\n",
    " * Stop or reduce the erosion of value by loss-making customers."
   ]
  },
  {
   "cell_type": "markdown",
   "metadata": {
    "slideshow": {
     "slide_type": "subslide"
    }
   },
   "source": [
    "### How?"
   ]
  },
  {
   "cell_type": "markdown",
   "metadata": {},
   "source": [
    "**A customer is considered to be an asset to the company.**"
   ]
  },
  {
   "cell_type": "markdown",
   "metadata": {
    "cell_style": "center"
   },
   "source": [
    "* Valuation of that asset:\n",
    "\n",
    "<script src='https://cdnjs.cloudflare.com/ajax/libs/mathjax/2.7.4/MathJax.js?config=default'></script> $$ \\text{CLV}=\\sum_{t=1}^{\\text{T}}\\dfrac{p_t - c_t}{(1+i)^t} - \\text{AC}. $$\n",
    "\n",
    "* <script src='https://cdnjs.cloudflare.com/ajax/libs/mathjax/2.7.4/MathJax.js?config=default'></script> $p_t$ = price paid by a customer at time t\n",
    "* <script src='https://cdnjs.cloudflare.com/ajax/libs/mathjax/2.7.4/MathJax.js?config=default'></script> $c_t$ = discount rate or cost of capital for the firm\n",
    "* <script src='https://cdnjs.cloudflare.com/ajax/libs/mathjax/2.7.4/MathJax.js?config=default'></script> $\\frac{1}{(1+i)^t}  $ = time horizon for estimating CLV\n",
    "* AC = acquisition cost\n",
    "* <script src='https://cdnjs.cloudflare.com/ajax/libs/mathjax/2.7.4/MathJax.js?config=default'></script> $T$ = time horizon for estimating CLV\n"
   ]
  },
  {
   "cell_type": "markdown",
   "metadata": {},
   "source": [
    "<center>\n",
    "<img src='https://www.dropbox.com/s/lwl6m9psa7e5y65/hair.png?raw=1' width='250' class='center'>\n",
    "<center>"
   ]
  },
  {
   "cell_type": "markdown",
   "metadata": {},
   "source": [
    "## Case Eurotel Part B - Customer Lifetime Valuation"
   ]
  },
  {
   "cell_type": "markdown",
   "metadata": {
    "slideshow": {
     "slide_type": "subslide"
    }
   },
   "source": [
    "### Case questions"
   ]
  },
  {
   "cell_type": "markdown",
   "metadata": {
    "slideshow": {
     "slide_type": "-"
    }
   },
   "source": [
    "* How can the churn probabilities be used to determine the expected customer relationship duration? \n",
    "* Examine and explain the CLV calculation for an individual Eurotel customer.\n",
    "* Targeting customer and product segments\n",
    "    - Determine the potential acquisition value for each product and customer segment. Which segments are most attractive?\n",
    "    - Determine the five product and customer segments that Eurotel should target?\n",
    "* Which marketing campaigns should Eurotel invest in?"
   ]
  },
  {
   "cell_type": "markdown",
   "metadata": {
    "slideshow": {
     "slide_type": "subslide"
    }
   },
   "source": [
    "### Import packages and read in the dataset"
   ]
  },
  {
   "cell_type": "code",
   "execution_count": null,
   "metadata": {
    "slideshow": {
     "slide_type": "-"
    }
   },
   "outputs": [],
   "source": [
    "import numpy as np\n",
    "import pandas as pd\n",
    "import matplotlib.pyplot as plt\n",
    "import seaborn as sns"
   ]
  },
  {
   "cell_type": "code",
   "execution_count": null,
   "metadata": {
    "slideshow": {
     "slide_type": "-"
    }
   },
   "outputs": [],
   "source": [
    "df_eurotel = pd.read_csv('../data/Eurotel_churn_output_data.csv')\n",
    "df_eurotel.head(5)"
   ]
  },
  {
   "cell_type": "markdown",
   "metadata": {
    "slideshow": {
     "slide_type": "subslide"
    }
   },
   "source": [
    "### Data description"
   ]
  },
  {
   "cell_type": "markdown",
   "metadata": {
    "cell_style": "center",
    "slideshow": {
     "slide_type": "-"
    }
   },
   "source": [
    "The <a href='https://pandas.pydata.org/docs/reference/api/pandas.DataFrame.describe.html'>`df.describe()`</a> method can be used to calculate basic descriptive statistics."
   ]
  },
  {
   "cell_type": "code",
   "execution_count": null,
   "metadata": {
    "cell_style": "center"
   },
   "outputs": [],
   "source": []
  },
  {
   "cell_type": "markdown",
   "metadata": {
    "slideshow": {
     "slide_type": "subslide"
    }
   },
   "source": [
    "### Data cleaning"
   ]
  },
  {
   "cell_type": "markdown",
   "metadata": {
    "cell_style": "center",
    "slideshow": {
     "slide_type": "-"
    }
   },
   "source": [
    "To ease interpretation, we replace `InternetService_No` with `InternetService`. "
   ]
  },
  {
   "cell_type": "code",
   "execution_count": null,
   "metadata": {
    "cell_style": "center"
   },
   "outputs": [],
   "source": [
    "df_eurotel['InternetService_No'] = \\\n",
    "    df_eurotel['InternetService_No'].replace({0: 1, 1: 0})\n",
    "df = df_eurotel.rename(columns={'InternetService_No':\n",
    "                        'InternetService'})\n",
    "df.head(5)"
   ]
  },
  {
   "cell_type": "markdown",
   "metadata": {
    "slideshow": {
     "slide_type": "subslide"
    }
   },
   "source": [
    "## CLV analysis"
   ]
  },
  {
   "cell_type": "markdown",
   "metadata": {
    "slideshow": {
     "slide_type": "-"
    }
   },
   "source": [
    "Questions:\n",
    "\n",
    "* How can the churn probabilities be used to determine the expected customer relationship duration?\n",
    "* How can we calculate the CLV values per customer?\n",
    "\n",
    "Some important information that can be found in the case:\n",
    "\n",
    "<ul>\n",
    "  <li>The company uses a yearly WACC of 8%.</li>\n",
    "  <li>The CLV analysis is EBITDA-based.</li>\n",
    "</ul>"
   ]
  },
  {
   "cell_type": "markdown",
   "metadata": {
    "slideshow": {
     "slide_type": "subslide"
    }
   },
   "source": [
    "### Customer lifetime"
   ]
  },
  {
   "cell_type": "markdown",
   "metadata": {
    "cell_style": "center",
    "slideshow": {
     "slide_type": "-"
    }
   },
   "source": [
    "Important in any CLV analysis is the time horizon under consideration. For each customer, we can determine the expected **customer relationship duration (CRD)** based on that customer's probability of churning:\n",
    "\n",
    "For each customer j:\n",
    "\n",
    "<script src='https://cdnjs.cloudflare.com/ajax/libs/mathjax/2.7.4/MathJax.js?config=default'></script> $$ CRD_j=\\dfrac{1}{P(churn)}. $$\n",
    "<br>\n",
    "</br>\n",
    "Let's calculate the CRD and include this information in a new column `CRD`. We work with rounded values."
   ]
  },
  {
   "cell_type": "code",
   "execution_count": null,
   "metadata": {
    "cell_style": "center",
    "scrolled": true,
    "slideshow": {
     "slide_type": "-"
    }
   },
   "outputs": [],
   "source": []
  },
  {
   "cell_type": "markdown",
   "metadata": {
    "slideshow": {
     "slide_type": "subslide"
    }
   },
   "source": [
    "### Customer lifetime"
   ]
  },
  {
   "cell_type": "markdown",
   "metadata": {
    "cell_style": "center"
   },
   "source": [
    "Some customers have a very high CRD (and thus a very low churn probability). This means that they are very likely to stick with our company for a long time. \n",
    "\n",
    "Others have a very high churn probability and thus a low CRD. These people have a high probability of switching to a competitor. \n",
    "\n",
    "Let's take a look at the minimum and maximum CRD in our data."
   ]
  },
  {
   "cell_type": "code",
   "execution_count": null,
   "metadata": {
    "cell_style": "center"
   },
   "outputs": [],
   "source": [
    "min_crd = int(min(df['CRD']))\n",
    "max_crd = int(max(df['CRD']))\n",
    "\n",
    "print('The minimum CRD is:', min_crd)\n",
    "print('The maximum CRD is:', max_crd)"
   ]
  },
  {
   "cell_type": "markdown",
   "metadata": {
    "slideshow": {
     "slide_type": "subslide"
    }
   },
   "source": [
    "### CLV calculation"
   ]
  },
  {
   "cell_type": "markdown",
   "metadata": {
    "cell_style": "center",
    "slideshow": {
     "slide_type": "-"
    }
   },
   "source": [
    "To compute the CLV, we need information on Eurotel's WACC as well as the forecasted EBITDA rates. Let's import the Excel file that contains all the exhibits and extract the sheets that contain the EBITDA as a percentage of monthly revenue and the WACC. \n",
    "\n",
    "We use the <a href='https://pandas.pydata.org/docs/reference/api/pandas.ExcelFile.parse.html'>pd.ExcelFile.parse()</a> function that parses specified sheet(s) into a pandas DataFrame."
   ]
  },
  {
   "cell_type": "code",
   "execution_count": null,
   "metadata": {
    "cell_style": "center",
    "slideshow": {
     "slide_type": "-"
    }
   },
   "outputs": [],
   "source": [
    "exhibits = pd.ExcelFile( '../data/Eurotel_exhibit_data.xlsx')\n",
    "month_wacc = exhibits.parse('WACC_month')\n",
    "ebitda_perc = exhibits.parse('Exhibit 2',index_col=0)\n",
    "print(month_wacc)\n",
    "print(ebitda_perc)"
   ]
  },
  {
   "cell_type": "markdown",
   "metadata": {
    "slideshow": {
     "slide_type": "subslide"
    }
   },
   "source": [
    "### CLV calculation"
   ]
  },
  {
   "cell_type": "markdown",
   "metadata": {
    "cell_style": "center",
    "slideshow": {
     "slide_type": "-"
    }
   },
   "source": [
    "We can now calculate the CLV values per customer. \n",
    "\n",
    "To do so, we use the <a href='https://numpy.org/numpy-financial/'>numpy_financial</a> package.This package contains the <a href='https://numpy.org/numpy-financial/latest/npv.html'>npf.npv()</a> function that returns the NPV (Net Present Value) of a cash flow stream."
   ]
  },
  {
   "cell_type": "code",
   "execution_count": null,
   "metadata": {
    "cell_style": "center"
   },
   "outputs": [],
   "source": [
    "import numpy_financial as npf"
   ]
  },
  {
   "cell_type": "markdown",
   "metadata": {
    "cell_style": "center"
   },
   "source": [
    "<script src='https://cdnjs.cloudflare.com/ajax/libs/mathjax/2.7.4/MathJax.js?config=default'></script> $$ \\text{CLV}=\\sum_{i=1}^{\\text{CRD}}\\dfrac{\\text{EBITDA}_{{\\text{month}}_i}}{(1+\\text{WACC}_{\\text{month}})^i}. $$\n",
    "\n",
    "\n"
   ]
  },
  {
   "cell_type": "markdown",
   "metadata": {
    "slideshow": {
     "slide_type": "subslide"
    }
   },
   "source": [
    "### CLV calculation"
   ]
  },
  {
   "cell_type": "markdown",
   "metadata": {
    "cell_style": "center"
   },
   "source": [
    "First, we construct two empty arrays that we use to store our calculations. Are you able to explain the shape of these arrays? \n",
    "\n",
    "Next, we extract the WACC from the pandas Series and store the EBITDA data in the predefined array. "
   ]
  },
  {
   "cell_type": "code",
   "execution_count": null,
   "metadata": {
    "cell_style": "center"
   },
   "outputs": [],
   "source": [
    "array_ebitda_perc = np.zeros(max_crd) \n",
    "\n",
    "amount_clients = len(df)\n",
    "clv = np.zeros(amount_clients) \n",
    "\n",
    "month_wacc = np.array(month_wacc['WACC_month'])\n",
    "      \n",
    "array_ebitda_perc[0] = ebitda_perc['M1']\n",
    "array_ebitda_perc[1] = ebitda_perc['M2']\n",
    "array_ebitda_perc[2] = ebitda_perc['M3']\n",
    "array_ebitda_perc[3] = ebitda_perc['M4']\n",
    "array_ebitda_perc[4] = ebitda_perc['M5']\n",
    "array_ebitda_perc[5:max_crd] = ebitda_perc['M6-inf']"
   ]
  },
  {
   "cell_type": "markdown",
   "metadata": {
    "slideshow": {
     "slide_type": "subslide"
    }
   },
   "source": [
    "### CLV calculation"
   ]
  },
  {
   "cell_type": "markdown",
   "metadata": {
    "cell_style": "center"
   },
   "source": [
    "Second, we construct arrays that contain the revenues per user and the customer relationship durations. \n",
    "\n",
    "We focus on the first three customers to gather some insight. Afterwards we do the same calculation for all customers.\n",
    "\n",
    "Let's take a look at the monthly revenue of the first 3 customers and their CRD. "
   ]
  },
  {
   "cell_type": "code",
   "execution_count": null,
   "metadata": {
    "cell_style": "center"
   },
   "outputs": [],
   "source": [
    "revenueperuser = np.array(df['RevenuePerUser'])\n",
    "crd = np.array(df['CRD']).astype(int)\n",
    "\n",
    "clv3 = np.zeros(3) \n",
    "revenueperuser3 = revenueperuser[0:3]\n",
    "crd3 = crd[0:3]\n",
    "print(revenueperuser3)\n",
    "print(crd3)"
   ]
  },
  {
   "cell_type": "markdown",
   "metadata": {
    "slideshow": {
     "slide_type": "subslide"
    }
   },
   "source": [
    "### CLV calculation"
   ]
  },
  {
   "cell_type": "markdown",
   "metadata": {
    "cell_style": "center"
   },
   "source": [
    "Third, we multiply the EBITDA percentage (different for each month) with the monthly revenue.\n",
    "\n",
    "To do so, we use the <a href='https://numpy.org/doc/stable/reference/generated/numpy.einsum.html'>np.einsum()</a> function. This function uses the Einstein summation convention, that enables us to represent array operations in a simple fashion.\n",
    "\n",
    "We store this information in the two-dimensional array `ebitda3`. Can you  explain the shape of this array?"
   ]
  },
  {
   "cell_type": "code",
   "execution_count": null,
   "metadata": {
    "cell_style": "center"
   },
   "outputs": [],
   "source": [
    "ebitda3 = np.einsum('i,j->ji', \n",
    "    array_ebitda_perc, revenueperuser3)\n",
    "print(ebitda3)\n",
    "print(ebitda3.shape)"
   ]
  },
  {
   "cell_type": "markdown",
   "metadata": {
    "slideshow": {
     "slide_type": "subslide"
    }
   },
   "source": [
    "### CLV calculation"
   ]
  },
  {
   "cell_type": "markdown",
   "metadata": {
    "cell_style": "center"
   },
   "source": [
    "We now have all the information to compute the CLV. To do so, we discount the EBITDA values using the monthly WACC and sum over the lenght of the CRD.\n",
    "\n",
    "For instance for the second customer (CRD = 2):\n",
    "    \n",
    "<script src='https://cdnjs.cloudflare.com/ajax/libs/mathjax/2.7.4/MathJax.js?config=default'></script> \\begin{align} \\text{CLV}&=\\dfrac{30.616}{1+\\text{WACC}_{\\text{month}}} \\\\ &+ \\dfrac{28.48}{(1+\\text{WACC}_{\\text{month}})^2}. \\end{align}.\n"
   ]
  },
  {
   "cell_type": "code",
   "execution_count": null,
   "metadata": {
    "cell_style": "center"
   },
   "outputs": [],
   "source": [
    "for i, val in enumerate(crd3):\n",
    "\n",
    "    '''\n",
    "    Complete this piece of code\n",
    "    '''\n",
    "    \n",
    "clv3"
   ]
  },
  {
   "cell_type": "markdown",
   "metadata": {
    "slideshow": {
     "slide_type": "subslide"
    }
   },
   "source": [
    "### CLV calculation"
   ]
  },
  {
   "cell_type": "markdown",
   "metadata": {},
   "source": [
    "We now do the same calculations for all customers and include the CLV values in our DataFrame. "
   ]
  },
  {
   "cell_type": "code",
   "execution_count": null,
   "metadata": {},
   "outputs": [],
   "source": [
    "matrix = np.einsum('i,j->ji', array_ebitda_perc, revenueperuser)\n",
    "\n",
    "for i, val in enumerate(crd):\n",
    "\n",
    "    clv[i] = npf.npv(month_wacc, matrix[i,0:val])\n",
    "\n",
    "df['CLV']=clv\n",
    "df.head(3)"
   ]
  },
  {
   "cell_type": "markdown",
   "metadata": {
    "slideshow": {
     "slide_type": "subslide"
    }
   },
   "source": [
    "### Customer and product segments"
   ]
  },
  {
   "cell_type": "markdown",
   "metadata": {},
   "source": [
    "What is the distribution of customers in each product segment?"
   ]
  },
  {
   "cell_type": "markdown",
   "metadata": {
    "cell_style": "center"
   },
   "source": [
    "Customer segments:\n",
    "\n",
    "<ul>\n",
    "  <li>Youth</li>\n",
    "  <li>Adults without children</li>\n",
    "  <li>Adults with children</li>\n",
    "  <li>Seniors</li>\n",
    "</ul>"
   ]
  },
  {
   "cell_type": "markdown",
   "metadata": {
    "cell_style": "center"
   },
   "source": [
    "Product segments:\n",
    "\n",
    "<ul>\n",
    "  <li>Mobile</li>\n",
    "  <li>Web</li>\n",
    "  <li>Mobile & Web</li>\n",
    "  <li>Web & TV</li>\n",
    "  <li>Web & Streaming</li>\n",
    "  <li>Web & Streaming & TV</li>\n",
    "  <li>Mobile & Web & Streaming</li>\n",
    "  <li>Mobile & Web & TV</li>\n",
    "  <li>MaxPack</li>\n",
    "</ul>\n"
   ]
  },
  {
   "cell_type": "markdown",
   "metadata": {
    "slideshow": {
     "slide_type": "subslide"
    }
   },
   "source": [
    "### Customer and product segments"
   ]
  },
  {
   "cell_type": "markdown",
   "metadata": {},
   "source": [
    "In order to capture segment information, the data need to be transformed."
   ]
  },
  {
   "cell_type": "code",
   "execution_count": null,
   "metadata": {
    "slideshow": {
     "slide_type": "-"
    }
   },
   "outputs": [],
   "source": [
    "for i, row in df.iterrows():\n",
    "    if df.loc[i,'SeniorCitizen'] == 1:\n",
    "        df.loc[i,'CustomerSegment'] = 'Senior'\n",
    "    elif df.loc[i,'Young'] == 1:\n",
    "        df.loc[i,'CustomerSegment'] = 'Youth'\n",
    "    elif df.loc[i,'Dependents'] == 1:\n",
    "        df.loc[i,'CustomerSegment'] = 'Adults-Children'\n",
    "    else :\n",
    "        df.loc[i,'CustomerSegment'] = 'Adults-NoChildren'\n",
    "        \n",
    "for i, row in df.iterrows():\n",
    "    if df.loc[i,'InternetService'] == 0 and df.loc[i,'PhoneService'] == 1: \n",
    "        df.loc[i,'ProductSegment'] = 'Mobile'\n",
    "    elif df.loc[i,'InternetService'] == 1 and df.loc[i,'PhoneService'] == 0  \\\n",
    "        and df.loc[i,'StreamingTV']== 0 and df.loc[i,'StreamingMovies']== 0:\n",
    "        df.loc[i,'ProductSegment'] = 'Web'\n",
    "    elif df.loc[i,'InternetService'] == 1 and df.loc[i,'PhoneService'] == 1 \\\n",
    "        and df.loc[i,'StreamingTV']== 0 and df.loc[i,'StreamingMovies']== 0:\n",
    "        df.loc[i,'ProductSegment'] = 'Mobile+Web'\n",
    "    elif df.loc[i,'InternetService'] == 1 and df.loc[i,'PhoneService'] == 0 \\\n",
    "        and df.loc[i,'StreamingTV']== 1 and df.loc[i,'StreamingMovies']== 0:\n",
    "        df.loc[i,'ProductSegment'] = 'Web+TV'\n",
    "    elif df.loc[i,'InternetService'] == 1 and df.loc[i,'PhoneService'] == 0 \\\n",
    "        and df.loc[i,'StreamingTV']== 0 and df.loc[i,'StreamingMovies']== 1:\n",
    "        df.loc[i,'ProductSegment'] = 'Web+Streaming'\n",
    "    elif df.loc[i,'InternetService'] == 1 and df.loc[i,'PhoneService'] == 0 \\\n",
    "        and df.loc[i,'StreamingTV']== 1 and df.loc[i,'StreamingMovies']== 1:\n",
    "        df.loc[i,'ProductSegment'] = 'Web+Streaming+TV'\n",
    "    elif df.loc[i,'InternetService'] == 1 and df.loc[i,'PhoneService'] == 1 \\\n",
    "        and df.loc[i,'StreamingTV']== 0 and df.loc[i,'StreamingMovies']== 1:\n",
    "        df.loc[i,'ProductSegment'] = 'Mobile+Web+Streaming'\n",
    "    elif df.loc[i,'InternetService'] == 1 and df.loc[i,'PhoneService'] == 1 \\\n",
    "        and df.loc[i,'StreamingTV']== 1 and df.loc[i,'StreamingMovies']== 0:\n",
    "        df.loc[i,'ProductSegment'] = 'Mobile+Web+TV'\n",
    "    else :\n",
    "        df.loc[i,'ProductSegment'] = 'MaxPack'"
   ]
  },
  {
   "cell_type": "markdown",
   "metadata": {
    "slideshow": {
     "slide_type": "subslide"
    }
   },
   "source": [
    "### Customer and product segments"
   ]
  },
  {
   "cell_type": "markdown",
   "metadata": {
    "cell_style": "center",
    "slideshow": {
     "slide_type": "-"
    }
   },
   "source": [
    "A crosstable (see <a href='https://pandas.pydata.org/docs/reference/api/pandas.crosstab.html'>df.crosstab()</a>) creates by default a frequency table of the factors you provide. Let's construct a crosstable that displays the number of customers in the different segments. Do you observe any interesting patterns?"
   ]
  },
  {
   "cell_type": "code",
   "execution_count": null,
   "metadata": {
    "cell_style": "center",
    "slideshow": {
     "slide_type": "-"
    }
   },
   "outputs": [],
   "source": []
  },
  {
   "cell_type": "markdown",
   "metadata": {
    "slideshow": {
     "slide_type": "-"
    }
   },
   "source": [
    "## Exercise "
   ]
  },
  {
   "cell_type": "markdown",
   "metadata": {},
   "source": [
    "In the next part of the notebook, some of the blocks of code are intentionally left blank. Use the snippets of code at the bottom of the notebook to complete the notebook. The description above each empty cell hints at what piece of code should be put in that cell. Sometimes you will have to write some code yourself to complete a piece of code (this is always indicated above the corresponding piece of code with a comment). \n",
    "\n",
    "Good luck! "
   ]
  },
  {
   "cell_type": "markdown",
   "metadata": {},
   "source": [
    "## Case question 3: targeting customer and product segments\n",
    "\n",
    "Goal: propose which five product/customer segments should be prioritized for marketing efforts. "
   ]
  },
  {
   "cell_type": "markdown",
   "metadata": {
    "cell_style": "center",
    "slideshow": {
     "slide_type": "-"
    }
   },
   "source": [
    "Group the customers in segments to calculate:\n",
    "\n",
    "* The total CLV of a segment\n",
    "* The number of customers in a segment\n",
    "* The average CLV of a segment\n"
   ]
  },
  {
   "cell_type": "code",
   "execution_count": null,
   "metadata": {},
   "outputs": [],
   "source": [
    "df_grouped_cust = df[['CustomerSegment', 'CLV']].copy()\n",
    "df_grouped_cust['Count'] = ''\n",
    "\n",
    "segment_per_customer = df_grouped_cust.groupby([ 'CustomerSegment']). CLV.sum().reset_index()\n",
    "segment_per_customer['Count'] = df_grouped_cust.groupby(['CustomerSegment']).count().reset_index()['Count']\n",
    "segment_per_customer['AvgCLVCustSeg'] =  segment_per_customer['CLV']/segment_per_customer['Count']\n",
    "segment_per_customer"
   ]
  },
  {
   "cell_type": "markdown",
   "metadata": {
    "cell_style": "center",
    "slideshow": {
     "slide_type": "-"
    }
   },
   "source": [
    "Do the same for the product segments."
   ]
  },
  {
   "cell_type": "code",
   "execution_count": null,
   "metadata": {},
   "outputs": [],
   "source": []
  },
  {
   "cell_type": "markdown",
   "metadata": {
    "cell_style": "center",
    "slideshow": {
     "slide_type": "-"
    }
   },
   "source": [
    "We have obtained the CLV values per customer segment and per product segment. These will be used in the further analysis.\n",
    "\n",
    "Note that the CLV values per customer segment and per product segment already reveal interesting information. Can you draw some conclusions?"
   ]
  },
  {
   "cell_type": "markdown",
   "metadata": {
    "cell_style": "center",
    "slideshow": {
     "slide_type": "-"
    }
   },
   "source": [
    "To determine the potential acquisition value for each product segment, we need to calculate the number of clients that could potentially switch from the competitor."
   ]
  },
  {
   "cell_type": "code",
   "execution_count": null,
   "metadata": {},
   "outputs": [],
   "source": [
    "switch_prob = exhibits.parse('Exhibit 3',index_col=0)\n",
    "size_prod_seg = exhibits.parse('Exhibit 1', index_col=0)\n",
    "size_prod_seg = size_prod_seg.drop('TOTAL', axis=1)\n",
    "\n",
    "switch_per_seg = pd.DataFrame(switch_prob.values\n",
    " *size_prod_seg.values, columns=switch_prob.columns,  index=switch_prob.index)\n",
    "switch_per_seg['Total Potential Acquired Customers'] = switch_per_seg.sum(axis=1)\n",
    "switch_per_seg"
   ]
  },
  {
   "cell_type": "markdown",
   "metadata": {
    "cell_style": "center"
   },
   "source": [
    "Knowing this, we can now obtain the potential acquisition value per product segment."
   ]
  },
  {
   "cell_type": "code",
   "execution_count": null,
   "metadata": {},
   "outputs": [],
   "source": []
  },
  {
   "cell_type": "markdown",
   "metadata": {
    "cell_style": "center"
   },
   "source": [
    "<center>\n",
    "<img src='https://www.dropbox.com/s/ngpqkuszu5nlbqr/cust_seg_meme.jpg?raw=1' width='400' class='center'>\n",
    "<center>"
   ]
  },
  {
   "cell_type": "markdown",
   "metadata": {},
   "source": [
    "Let's construct a DataFrame that shows the percentages of customers in each product segment. "
   ]
  },
  {
   "cell_type": "code",
   "execution_count": null,
   "metadata": {},
   "outputs": [],
   "source": [
    "percen_cus = pd.crosstab(index=df['ProductSegment'], columns=df['CustomerSegment']).apply(lambda r: r/r.sum(), axis=1)\n",
    "percen_cus = percen_cus.rename(columns={'Adults-Children': 'Adults-Children-Percent', 'Adults-NoChildren': 'Adults-NoChildren-Percent'\n",
    "                           ,'Senior': 'Senior-Percent','Youth': 'Youth-Percent'})\n",
    "percen_cus"
   ]
  },
  {
   "cell_type": "markdown",
   "metadata": {},
   "source": [
    "Import the strategic importance scores."
   ]
  },
  {
   "cell_type": "code",
   "execution_count": null,
   "metadata": {},
   "outputs": [],
   "source": []
  },
  {
   "cell_type": "markdown",
   "metadata": {},
   "source": [
    "We can now calculate the value potential of the different product/customer groups. While doing so, we also keep track of the strategic importance scores."
   ]
  },
  {
   "cell_type": "code",
   "execution_count": null,
   "metadata": {},
   "outputs": [],
   "source": [
    "pot_acq_val= per_segment_CLV['Potential acquired Value']\n",
    "seg_pot = percen_cus.mul(pot_acq_val, axis=0).rename(columns={'Adults-Children-Percent': 'Adults-Children-Potential', \n",
    "                                                              'Adults-NoChildren-Percent': 'Adults-NoChildren-Potential'\n",
    "                                       ,'Senior-Percent': 'Senior-Potential','Youth-Percent': 'Youth-Potential'})\n",
    "mark_prio = pd.concat([percen_cus, seg_pot], axis = 1)\n",
    "mark_prio['Strategic Importance Score'] = strat_imp_score\n",
    "mark_prio"
   ]
  },
  {
   "cell_type": "markdown",
   "metadata": {},
   "source": [
    "Construct a heatmap visualising the segment potentials. Based on this heatmap and the data matrix, which segments would you prioritize? \n",
    "\n",
    "**Hint:** you can always ask ChatGPT to *'create a heatmap from a pandas dataframe'* to get an idea what the code should look like."
   ]
  },
  {
   "cell_type": "code",
   "execution_count": null,
   "metadata": {},
   "outputs": [],
   "source": []
  },
  {
   "cell_type": "markdown",
   "metadata": {
    "slideshow": {
     "slide_type": "subslide"
    }
   },
   "source": [
    "## Case question 4: assessment of marketing campaigns"
   ]
  },
  {
   "cell_type": "markdown",
   "metadata": {
    "cell_style": "center"
   },
   "source": [
    "<center>\n",
    "<img src='https://www.dropbox.com/s/ldy27rng7fxsfyg/marketing.jpg?raw=1' width='450' class='center'>\n",
    "<center>"
   ]
  },
  {
   "cell_type": "markdown",
   "metadata": {
    "cell_style": "center"
   },
   "source": [
    "Now that we identified which 5 segments to prioritize, it's time to analyze how we will target each of those segments.  "
   ]
  },
  {
   "cell_type": "markdown",
   "metadata": {},
   "source": [
    "To do so, we first load in the data on the different marketing campaigns (Exhibit 5). "
   ]
  },
  {
   "cell_type": "code",
   "execution_count": null,
   "metadata": {
    "scrolled": true
   },
   "outputs": [],
   "source": [
    "mark_camp = exhibits.parse('Exhibit 5',index_col=0)\n",
    "mark_camp"
   ]
  },
  {
   "cell_type": "markdown",
   "metadata": {},
   "source": [
    "Next, we need to define the target acquisition rates."
   ]
  },
  {
   "cell_type": "code",
   "execution_count": null,
   "metadata": {},
   "outputs": [],
   "source": []
  },
  {
   "cell_type": "markdown",
   "metadata": {},
   "source": [
    "Let's visualize what the dataframes *rates* and *costs* look like:"
   ]
  },
  {
   "cell_type": "code",
   "execution_count": null,
   "metadata": {},
   "outputs": [],
   "source": [
    "rates"
   ]
  },
  {
   "cell_type": "code",
   "execution_count": null,
   "metadata": {},
   "outputs": [],
   "source": [
    "costs"
   ]
  },
  {
   "cell_type": "markdown",
   "metadata": {},
   "source": [
    "Calculate the number of target customers in each segment."
   ]
  },
  {
   "cell_type": "code",
   "execution_count": null,
   "metadata": {},
   "outputs": [],
   "source": [
    "pot_cust = per_segment_CLV['Total Potential Acquired Customers']\n",
    "amount_cust = percen_cus.mul(pot_cust, axis=0).rename(columns={'Adults-Children-Percent': 'Adults-Children-Target', \n",
    "                                                              'Adults-NoChildren-Percent': 'Adults-NoChildren-Target'\n",
    "                                       ,'Senior-Percent': 'Senior-Target','Youth-Percent': 'Youth-Target'})\n",
    "\n",
    "amount_cust = amount_cust.round()\n",
    "amount_cust"
   ]
  },
  {
   "cell_type": "markdown",
   "metadata": {},
   "source": [
    "Extract the 5 product/customer segments which you selected in the previous section (question 3)."
   ]
  },
  {
   "cell_type": "code",
   "execution_count": null,
   "metadata": {
    "scrolled": true
   },
   "outputs": [],
   "source": [
    "# This piece of code is not complete, ' ' indicates empty strings that you should fill in \n",
    "# The values that you need to fill in correspond to row and column names from the previous output\n",
    "# So, segment 1 = amount_cust.loc['row_name', 'column_name']\n",
    "\n",
    "segment1 = amount_cust.loc[' ', ' ']\n",
    "segment2 = amount_cust.loc[' ', ' ']\n",
    "segment3 = amount_cust.loc[' ', ' ']\n",
    "segment4 = amount_cust.loc[' ', ' ']\n",
    "segment5 = amount_cust.loc[' ', ' ']\n",
    "\n",
    "# The next step is to store these data into a data frame\n",
    "# Feel free to change the names of the columns to a value of your choice\n",
    "all_camp = pd.DataFrame(np.array([[segment1,segment2,segment3,segment4,segment5]]),\n",
    "                        index =['Potential Acquired Customers'],\n",
    "                        columns=['segment_1', 'segment_2', 'segment_3','segment_4', 'segment_5'])\n",
    "\n",
    "all_camp"
   ]
  },
  {
   "cell_type": "markdown",
   "metadata": {},
   "source": [
    "Use the target segment acquisition rates for the different campaigns to make an overview of acquired customers."
   ]
  },
  {
   "cell_type": "code",
   "execution_count": null,
   "metadata": {},
   "outputs": [],
   "source": [
    "# This piece of code is not complete, ' ' indicates empty strings that you should fill in \n",
    "# The values that you need to fill in correspond to column names of the 'rates' data frame\n",
    "# The column names should be those that best correspond to your chosen segments \n",
    "\n",
    "number_pot_acq_cust_segment1 =  segment1 * rates[' '].rename('Potential-Acquired-Segment1')\n",
    "number_pot_acq_cust_segment2 =  segment2 * rates[' '].rename('Potential-Acquired-Segment2')\n",
    "number_pot_acq_cust_segment3 =  segment3 * rates[' '].rename('Potential-Acquired-Segment3')\n",
    "number_pot_acq_cust_segment4 =  segment4 * rates[' '].rename('Potential-Acquired-Segment4')\n",
    "number_pot_acq_cust_segment5 =  segment5 * rates[' '].rename('Potential-Acquired-Segment5')\n",
    "pot_ac_cust = pd.concat([number_pot_acq_cust_segment1,number_pot_acq_cust_segment2,number_pot_acq_cust_segment3,\n",
    "          number_pot_acq_cust_segment4,number_pot_acq_cust_segment5], axis=1)\n",
    "pot_ac_cust"
   ]
  },
  {
   "cell_type": "markdown",
   "metadata": {},
   "source": [
    "Finally, we can calculate the ROI for the different campaigns."
   ]
  },
  {
   "cell_type": "code",
   "execution_count": null,
   "metadata": {
    "scrolled": true
   },
   "outputs": [],
   "source": [
    "# This piece of code is not complete, ' ' indicates empty strings that you should fill in. \n",
    "# The values that you need to fill in for avg_clv_prod_seg.loc[' '] correspond to the relevant row names of the avg_clv_prod_seg dataframe\n",
    "# The avg_clv_prod_seg dataframe is a subset of the per_segment_CLV dataframe containing only the 'CLV' column\n",
    "# These values are also similar to the product segments you selected earlier\n",
    "# For the costs[' '], you need to fill in the relevant columns from the costs dataframe\n",
    "\n",
    "avg_clv_prod_seg = per_segment_CLV['CLV']\n",
    "\n",
    "roi_segment1 = (avg_clv_prod_seg.loc[' ']*number_pot_acq_cust_segment1)/costs[' '] - 1\n",
    "roi_segment2 = (avg_clv_prod_seg.loc[' ']*number_pot_acq_cust_segment2)/costs[' '] - 1\n",
    "roi_segment3 = (avg_clv_prod_seg.loc[' ']*number_pot_acq_cust_segment3)/costs[' '] - 1\n",
    "roi_segment4 = (avg_clv_prod_seg.loc[' ']*number_pot_acq_cust_segment4)/costs[' '] - 1\n",
    "roi_segment5 = (avg_clv_prod_seg.loc[' ']*number_pot_acq_cust_segment5)/costs[' '] - 1\n",
    "roi_marketing_camp = pd.concat([roi_segment1,roi_segment2,roi_segment3,\n",
    "          roi_segment4,roi_segment5], axis=1)\n",
    "\n",
    "roi_marketing_camp = roi_marketing_camp.rename(columns={0: 'ROI-Segment1', 1: 'ROI-Segment2',\n",
    "                    2: 'ROI-Segment3', 3: 'ROI-Segment4', 4: 'ROI-Segment5'})\n",
    "\n",
    "roi_marketing_camp"
   ]
  },
  {
   "cell_type": "markdown",
   "metadata": {},
   "source": [
    "Construct a heatmap to visualise the different ROI values."
   ]
  },
  {
   "cell_type": "code",
   "execution_count": null,
   "metadata": {},
   "outputs": [],
   "source": []
  },
  {
   "cell_type": "markdown",
   "metadata": {},
   "source": [
    "Based on this heatmap, which marketing campaings will you adopt? What are your conclusions? "
   ]
  },
  {
   "cell_type": "markdown",
   "metadata": {},
   "source": [
    "### Pieces of code\n",
    "\n",
    "Below we provide the pieces of code that should be used to complete the notebook. Note, however, that the pieces of code are ordered randomly. "
   ]
  },
  {
   "cell_type": "code",
   "execution_count": null,
   "metadata": {},
   "outputs": [],
   "source": [
    "strat_imp_score = exhibits.parse('Exhibit 4',index_col=0)\n",
    "strat_imp_score"
   ]
  },
  {
   "cell_type": "code",
   "execution_count": null,
   "metadata": {},
   "outputs": [],
   "source": [
    "ax = sns.heatmap(mark_prio[['Adults-Children-Potential','Adults-NoChildren-Potential','Senior-Potential', 'Youth-Potential']], linewidth=0.5,cmap='YlGnBu')\n",
    "ax.set_facecolor('red')\n",
    "ax.set_title('Heatmap Customer Segments')\n",
    "plt.show()"
   ]
  },
  {
   "cell_type": "code",
   "execution_count": null,
   "metadata": {},
   "outputs": [],
   "source": [
    "total_pot_acq_cust = pd.DataFrame(switch_per_seg[\n",
    "    'Total Potential Acquired Customers'])\n",
    "per_segment_CLV = df.groupby(['ProductSegment']).CLV.mean().reset_index().set_index('ProductSegment')\n",
    "per_segment_CLV = pd.concat([per_segment_CLV,total_pot_acq_cust], axis = 1)\n",
    "per_segment_CLV['Potential acquired Value'] = per_segment_CLV.product(axis=1)\n",
    "per_segment_CLV"
   ]
  },
  {
   "cell_type": "code",
   "execution_count": null,
   "metadata": {},
   "outputs": [],
   "source": [
    "ax = sns.heatmap(roi_marketing_camp, linewidth=0.5,cmap='YlGnBu')\n",
    "ax.set_facecolor('red')\n",
    "ax.set_title('Heatmap Marketing Campaigns')\n",
    "plt.show()"
   ]
  },
  {
   "cell_type": "code",
   "execution_count": null,
   "metadata": {},
   "outputs": [],
   "source": [
    "rates = mark_camp[['Youth-Rate','Adults-NoChildren-Rate','Adults-Children-Rate', 'Seniors-Rate']]\n",
    "costs = mark_camp[['Youth-Cost','Adults-NoChildren-Cost','Adults-Children-Cost', 'Seniors-Cost']]\n",
    "print(rates)\n",
    "print(costs)"
   ]
  },
  {
   "cell_type": "code",
   "execution_count": null,
   "metadata": {},
   "outputs": [],
   "source": [
    "df_grouped_prod = df[['ProductSegment', 'CLV']].copy()\n",
    "df_grouped_prod['Count'] = ''\n",
    "\n",
    "segment_per_product = df_grouped_prod.groupby(['ProductSegment']).CLV.sum().reset_index()\n",
    "segment_per_product['Count'] = df_grouped_prod.groupby(['ProductSegment']).count().reset_index()['Count']\n",
    "segment_per_product['AvgCLVProductSeg'] = segment_per_product['CLV']/segment_per_product['Count']\n",
    "segment_per_product"
   ]
  }
 ],
 "metadata": {
  "celltoolbar": "Slideshow",
  "hide_input": false,
  "jupytext": {
   "formats": "ipynb"
  },
  "kernelspec": {
   "display_name": "Python 3 (ipykernel)",
   "language": "python",
   "name": "python3"
  },
  "language_info": {
   "codemirror_mode": {
    "name": "ipython",
    "version": 3
   },
   "file_extension": ".py",
   "mimetype": "text/x-python",
   "name": "python",
   "nbconvert_exporter": "python",
   "pygments_lexer": "ipython3",
   "version": "3.9.7"
  },
  "rise": {
   "autolaunch": false,
   "enable_chalkboard": true,
   "overlay": "<img id='rise-backimage' src=vlerick.png /></div>",
   "scroll": true,
   "start_slideshow_at": "selected"
  },
  "toc": {
   "base_numbering": "",
   "nav_menu": {},
   "number_sections": false,
   "sideBar": true,
   "skip_h1_title": false,
   "title_cell": "Table of Contents",
   "title_sidebar": "Contents",
   "toc_cell": false,
   "toc_position": {
    "height": "calc(100% - 180px)",
    "left": "10px",
    "top": "150px",
    "width": "256px"
   },
   "toc_section_display": true,
   "toc_window_display": false
  }
 },
 "nbformat": 4,
 "nbformat_minor": 4
}
